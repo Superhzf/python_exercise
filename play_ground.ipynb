{
 "cells": [
  {
   "cell_type": "code",
   "execution_count": 16,
   "metadata": {},
   "outputs": [],
   "source": [
    "def isSubsequence(s, t):\n",
    "    len_s = len(s)\n",
    "    len_t = len(t)\n",
    "\n",
    "    if len_s == 0:\n",
    "        return True\n",
    "    if len_t == 0:\n",
    "        return False\n",
    "\n",
    "    i_s = 0\n",
    "    i_t = 0\n",
    "    while i_t < len_t and i_s < len_s:\n",
    "        if s[i_s] == t[i_t]:\n",
    "            i_s+=1\n",
    "            i_t+=1\n",
    "            print (i_s)\n",
    "        else:\n",
    "            i_t+=1\n",
    "    \n",
    "    if i_s==len_s:\n",
    "        return True\n",
    "    else:\n",
    "        return False"
   ]
  },
  {
   "cell_type": "code",
   "execution_count": 40,
   "metadata": {},
   "outputs": [],
   "source": [
    "a = 'abc'"
   ]
  },
  {
   "cell_type": "code",
   "execution_count": 41,
   "metadata": {},
   "outputs": [
    {
     "data": {
      "text/plain": [
       "'a'"
      ]
     },
     "execution_count": 41,
     "metadata": {},
     "output_type": "execute_result"
    }
   ],
   "source": [
    "a[0]"
   ]
  },
  {
   "cell_type": "code",
   "execution_count": null,
   "metadata": {},
   "outputs": [],
   "source": []
  }
 ],
 "metadata": {
  "kernelspec": {
   "display_name": "Python 3",
   "language": "python",
   "name": "python3"
  },
  "language_info": {
   "codemirror_mode": {
    "name": "ipython",
    "version": 3
   },
   "file_extension": ".py",
   "mimetype": "text/x-python",
   "name": "python",
   "nbconvert_exporter": "python",
   "pygments_lexer": "ipython3",
   "version": "3.7.3"
  }
 },
 "nbformat": 4,
 "nbformat_minor": 2
}
